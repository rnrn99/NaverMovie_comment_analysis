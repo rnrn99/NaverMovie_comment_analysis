{
 "cells": [
  {
   "cell_type": "code",
   "execution_count": 1,
   "id": "3474ded7",
   "metadata": {
    "scrolled": true
   },
   "outputs": [
    {
     "name": "stdout",
     "output_type": "stream",
     "text": [
      "Python 3.9.7\n"
     ]
    }
   ],
   "source": [
    "!python --version"
   ]
  },
  {
   "cell_type": "code",
   "execution_count": 79,
   "id": "60b980b5",
   "metadata": {},
   "outputs": [
    {
     "name": "stdout",
     "output_type": "stream",
     "text": [
      "Processing c:\\users\\user\\movie_rating_analysis\\jpype1-1.3.0-cp39-cp39-win_amd64.whl\n",
      "JPype1 is already installed with the same version as the provided wheel. Use --force-reinstall to force an installation of the wheel.\n",
      "Requirement already satisfied: konlpy in c:\\users\\user\\anaconda3\\lib\\site-packages (0.6.0)\n",
      "Requirement already satisfied: numpy>=1.6 in c:\\users\\user\\anaconda3\\lib\\site-packages (from konlpy) (1.20.3)\n",
      "Requirement already satisfied: JPype1>=0.7.0 in c:\\users\\user\\anaconda3\\lib\\site-packages (from konlpy) (1.3.0)\n",
      "Requirement already satisfied: lxml>=4.1.0 in c:\\users\\user\\anaconda3\\lib\\site-packages (from konlpy) (4.6.3)\n"
     ]
    }
   ],
   "source": [
    "!pip install JPype1-1.3.0-cp39-cp39-win_amd64.whl\n",
    "!pip install konlpy"
   ]
  },
  {
   "cell_type": "code",
   "execution_count": 81,
   "id": "4e5809eb",
   "metadata": {},
   "outputs": [],
   "source": [
    "from konlpy.tag import Twitter\n",
    "twitter = Twitter()"
   ]
  },
  {
   "cell_type": "code",
   "execution_count": 4,
   "id": "4769b477",
   "metadata": {},
   "outputs": [
    {
     "data": {
      "text/plain": [
       "['안녕',\n",
       " '방금',\n",
       " '데바',\n",
       " '데',\n",
       " '라는',\n",
       " '게임',\n",
       " '을',\n",
       " '하고',\n",
       " '왔는데',\n",
       " '내',\n",
       " '가',\n",
       " '마지막',\n",
       " '생존자',\n",
       " '였어',\n",
       " '근데',\n",
       " '결국',\n",
       " '죽었어',\n",
       " '아깝다']"
      ]
     },
     "execution_count": 4,
     "metadata": {},
     "output_type": "execute_result"
    }
   ],
   "source": [
    "twitter.morphs('안녕 방금 데바데라는 게임을 하고 왔는데 내가 마지막 생존자였어 근데 결국 죽었어 아깝다')"
   ]
  },
  {
   "cell_type": "markdown",
   "id": "35d3319a",
   "metadata": {},
   "source": [
    "## 댓글 수집하기"
   ]
  },
  {
   "cell_type": "code",
   "execution_count": 5,
   "id": "a0ba26fc",
   "metadata": {},
   "outputs": [],
   "source": [
    "# 언차티드 분석\n",
    "url = 'https://movie.naver.com/movie/bi/mi/pointWriteFormList.naver?code=80737&type=after&onlyActualPointYn=N&onlySpoilerPointYn=N&order=newest&page={}'\n",
    "\n",
    "import requests as req\n",
    "from bs4 import BeautifulSoup"
   ]
  },
  {
   "cell_type": "code",
   "execution_count": 6,
   "id": "9563e609",
   "metadata": {},
   "outputs": [
    {
     "data": {
      "text/plain": [
       "<Response [200]>"
      ]
     },
     "execution_count": 6,
     "metadata": {},
     "output_type": "execute_result"
    }
   ],
   "source": [
    "page = 1\n",
    "res = req.get(url.format(1))\n",
    "res"
   ]
  },
  {
   "cell_type": "code",
   "execution_count": 82,
   "id": "3f5d9d83",
   "metadata": {},
   "outputs": [
    {
     "name": "stdout",
     "output_type": "stream",
     "text": [
      "rating:  10\n",
      "comment:  관람객\n",
      "\n",
      "\r\n",
      "\t\t\t\t\t\t\t\t\t\t\t\t\t\t\r\n",
      "\t\t\t\t\t\t\t\t\t\t\t\t\t\t\t\r\n",
      "\t\t\t\t\t\t\t\t\t\t\t\t\t\t\t\r\n",
      "\t\t\t\t\t\t\t\t\t\t\t\t\t\t\t\t톰홀랜드 앓이하고 있었는데 바로 또다른 영화로 볼 수 있어서 좋았어요 재밌게 잘 봤습니다\n",
      "rating:  10\n",
      "comment:  존좋 진짜 재미있다 진짜 인생영화\n",
      "rating:  8\n",
      "comment:  톰 홀랜드란 배우가  스파이더맨에 나왔었나  기억이 안나네언차티드에선  매력있네요\n",
      "rating:  10\n",
      "comment:  평점이 안 좋아서 기대 안 하고 봤는데 깊이 생각하지 않고 보기에 딱 좋아용 꿀잼\n",
      "rating:  6\n",
      "comment:  관람객\n",
      "\n",
      "\r\n",
      "\t\t\t\t\t\t\t\t\t\t\t\t\t\t\r\n",
      "\t\t\t\t\t\t\t\t\t\t\t\t\t\t\t\r\n",
      "\t\t\t\t\t\t\t\t\t\t\t\t\t\t\t\r\n",
      "\t\t\t\t\t\t\t\t\t\t\t\t\t\t\t\t내내 싱겁다가 그나마 마지막 액션신때문에 극장에서 볼 맛이 있었다\n",
      "rating:  7\n",
      "comment:  관람객\n",
      "\n",
      "\r\n",
      "\t\t\t\t\t\t\t\t\t\t\t\t\t\t\r\n",
      "\t\t\t\t\t\t\t\t\t\t\t\t\t\t\t\r\n",
      "\t\t\t\t\t\t\t\t\t\t\t\t\t\t\t\r\n",
      "\t\t\t\t\t\t\t\t\t\t\t\t\t\t\t\t그냥 적당히 킬링타임용으로 볼만함.\n",
      "rating:  8\n",
      "comment:  관람객\n",
      "\n",
      "\r\n",
      "\t\t\t\t\t\t\t\t\t\t\t\t\t\t\r\n",
      "\t\t\t\t\t\t\t\t\t\t\t\t\t\t\t\r\n",
      "\t\t\t\t\t\t\t\t\t\t\t\t\t\t\t\r\n",
      "\t\t\t\t\t\t\t\t\t\t\t\t\t\t\t\t가벼운 킬링 타임용 무비로 매우 괜춘~~\n",
      "rating:  2\n",
      "comment:  1. 영화에 재미는 처음 액션씬과 여주가 물에서 나오는 씬이 다 였다.2. 보물을 찾아가면서 숨겨진 암호를 푸는 과정이 너무 쉬웠다. 일반사람도 찾을 정도로...그동안 못찾은 이유를 모르겠다.3. 전투씬이 무슨 장난...\n",
      "rating:  10\n",
      "comment:  톰홀랜드 아니었으면 6점, 톰홀랜드라서 10점! 캬캬\n",
      "rating:  6\n",
      "comment:  관람객\n",
      "\n",
      "\r\n",
      "\t\t\t\t\t\t\t\t\t\t\t\t\t\t\r\n",
      "\t\t\t\t\t\t\t\t\t\t\t\t\t\t\t\r\n",
      "\t\t\t\t\t\t\t\t\t\t\t\t\t\t\t\r\n",
      "\t\t\t\t\t\t\t\t\t\t\t\t\t\t\t\t제작 전에 감독이 계속 바꼈던 영화 답게 충분히 더 잘 만들을 수 있을 것 같은데 조금씩 부족해 보인다.\n"
     ]
    }
   ],
   "source": [
    "soup = BeautifulSoup(res.text, 'html.parser')\n",
    "\n",
    "for li in soup.find('div', {'class':'score_result'}).find_all('li'):\n",
    "    print('rating: ', li.em.text)\n",
    "    print('comment: ', li.p.text.strip())"
   ]
  },
  {
   "cell_type": "markdown",
   "id": "f42c68c8",
   "metadata": {},
   "source": [
    "## 댓글 수집하기"
   ]
  },
  {
   "cell_type": "code",
   "execution_count": 17,
   "id": "d963c67c",
   "metadata": {},
   "outputs": [],
   "source": [
    "url = 'https://movie.naver.com/movie/bi/mi/pointWriteFormList.naver?code=80737&type=after&onlyActualPointYn=N&onlySpoilerPointYn=N&order=newest&page={}'\n",
    "\n",
    "import requests as req\n",
    "from bs4 import BeautifulSoup\n",
    "import re"
   ]
  },
  {
   "cell_type": "code",
   "execution_count": 27,
   "id": "7561b74a",
   "metadata": {},
   "outputs": [],
   "source": [
    "def get_comments(page = 1):\n",
    "    res = req.get(url.format(page))\n",
    "    soup = BeautifulSoup(res.text, 'html.parser')\n",
    "\n",
    "    score, comment = [], []\n",
    "    \n",
    "    for li in soup.find('div', {'class':'score_result'}).find_all('li'):\n",
    "        # 점수가 8점 이상이면 긍정(1), 5점 이하면 부정(0)\n",
    "        if int(li.em.text) >= 8:\n",
    "            score.append(1)\n",
    "            c = re.sub('[\\n\\t\\r관람객]', '', li.p.text.strip())\n",
    "            comment.append(c)\n",
    "        elif int(li.em.text) <= 5:\n",
    "            score.append(0)\n",
    "            c = re.sub('[\\n\\t\\r관람객]', '', li.p.text.strip())\n",
    "            comment.append(c)\n",
    "            \n",
    "    return score, comment"
   ]
  },
  {
   "cell_type": "code",
   "execution_count": 22,
   "id": "ee3ca1b8",
   "metadata": {},
   "outputs": [
    {
     "data": {
      "text/plain": [
       "([1, 1, 1, 1, 1, 0, 1],\n",
       " ['톰홀랜드 앓이하고 있었는데 바로 또다른 영화로 볼 수 있어서 좋았어요 재밌게 잘 봤습니다',\n",
       "  '존좋 진짜 재미있다 진짜 인생영화',\n",
       "  '톰 홀랜드란 배우가  스파이더맨에 나왔었나  기억이 안나네언차티드에선  매력있네요',\n",
       "  '평점이 안 좋아서 기대 안 하고 봤는데 깊이 생각하지 않고 보기에 딱 좋아용 꿀잼',\n",
       "  '가벼운 킬링 타임용 무비로 매우 괜춘~~',\n",
       "  '1. 영화에 재미는 처음 액션씬과 여주가 물에서 나오는 씬이 다 였다.2. 보물을 찾아가면서 숨겨진 암호를 푸는 과정이 너무 쉬웠다. 일반사도 찾을 정도로...그동안 못찾은 이유를 모르겠다.3. 전투씬이 무슨 장난...',\n",
       "  '톰홀랜드 아니었으면 6점, 톰홀랜드라서 10점! 캬캬'])"
      ]
     },
     "execution_count": 22,
     "metadata": {},
     "output_type": "execute_result"
    }
   ],
   "source": [
    "get_comments(1)"
   ]
  },
  {
   "cell_type": "code",
   "execution_count": 28,
   "id": "15965abf",
   "metadata": {},
   "outputs": [
    {
     "name": "stdout",
     "output_type": "stream",
     "text": [
      "199 번째 페이지의 댓글을 수집하고 있습니다.\r"
     ]
    }
   ],
   "source": [
    "import time\n",
    "\n",
    "score, comment = [], []\n",
    "\n",
    "for i in range(1,200):\n",
    "    time.sleep(1)\n",
    "    print(i, '번째 페이지의 댓글을 수집하고 있습니다.', end='\\r')\n",
    "    s, c = get_comments(i)\n",
    "    score += s\n",
    "    comment += c"
   ]
  },
  {
   "cell_type": "code",
   "execution_count": 36,
   "id": "22d3a62c",
   "metadata": {},
   "outputs": [
    {
     "data": {
      "text/html": [
       "<div>\n",
       "<style scoped>\n",
       "    .dataframe tbody tr th:only-of-type {\n",
       "        vertical-align: middle;\n",
       "    }\n",
       "\n",
       "    .dataframe tbody tr th {\n",
       "        vertical-align: top;\n",
       "    }\n",
       "\n",
       "    .dataframe thead th {\n",
       "        text-align: right;\n",
       "    }\n",
       "</style>\n",
       "<table border=\"1\" class=\"dataframe\">\n",
       "  <thead>\n",
       "    <tr style=\"text-align: right;\">\n",
       "      <th></th>\n",
       "      <th>score</th>\n",
       "      <th>comment</th>\n",
       "    </tr>\n",
       "  </thead>\n",
       "  <tbody>\n",
       "    <tr>\n",
       "      <th>0</th>\n",
       "      <td>1</td>\n",
       "      <td>톰홀랜드 앓이하고 있었는데 바로 또다른 영화로 볼 수 있어서 좋았어요 재밌게 잘 봤습니다</td>\n",
       "    </tr>\n",
       "    <tr>\n",
       "      <th>1</th>\n",
       "      <td>1</td>\n",
       "      <td>존좋 진짜 재미있다 진짜 인생영화</td>\n",
       "    </tr>\n",
       "    <tr>\n",
       "      <th>2</th>\n",
       "      <td>1</td>\n",
       "      <td>톰 홀랜드란 배우가  스파이더맨에 나왔었나  기억이 안나네언차티드에선  매력있네요</td>\n",
       "    </tr>\n",
       "    <tr>\n",
       "      <th>3</th>\n",
       "      <td>1</td>\n",
       "      <td>평점이 안 좋아서 기대 안 하고 봤는데 깊이 생각하지 않고 보기에 딱 좋아용 꿀잼</td>\n",
       "    </tr>\n",
       "    <tr>\n",
       "      <th>4</th>\n",
       "      <td>1</td>\n",
       "      <td>가벼운 킬링 타임용 무비로 매우 괜춘~~</td>\n",
       "    </tr>\n",
       "    <tr>\n",
       "      <th>...</th>\n",
       "      <td>...</td>\n",
       "      <td>...</td>\n",
       "    </tr>\n",
       "    <tr>\n",
       "      <th>1516</th>\n",
       "      <td>1</td>\n",
       "      <td></td>\n",
       "    </tr>\n",
       "    <tr>\n",
       "      <th>1517</th>\n",
       "      <td>1</td>\n",
       "      <td>톰홀랜드가 보여줄 수 있는 딱 킬링타임용 영화ㅋㅋㅋ확실히 배우가 좋다 보니까 평타 ...</td>\n",
       "    </tr>\n",
       "    <tr>\n",
       "      <th>1518</th>\n",
       "      <td>1</td>\n",
       "      <td>게임원작은 안해봤지만 킬탐으론 딱 적당한듯. 스파때랑은 다른 톰 홀랜드의 청년미.....</td>\n",
       "    </tr>\n",
       "    <tr>\n",
       "      <th>1519</th>\n",
       "      <td>1</td>\n",
       "      <td>원작 팬분들에겐 가벼운 분위기가 낯설 수 있는데, 톰 홀랜드 스타일을 좋아하는 분들...</td>\n",
       "    </tr>\n",
       "    <tr>\n",
       "      <th>1520</th>\n",
       "      <td>1</td>\n",
       "      <td>톰홀랜드인데 말해뭐해</td>\n",
       "    </tr>\n",
       "  </tbody>\n",
       "</table>\n",
       "<p>1521 rows × 2 columns</p>\n",
       "</div>"
      ],
      "text/plain": [
       "     score                                            comment\n",
       "0        1  톰홀랜드 앓이하고 있었는데 바로 또다른 영화로 볼 수 있어서 좋았어요 재밌게 잘 봤습니다\n",
       "1        1                                 존좋 진짜 재미있다 진짜 인생영화\n",
       "2        1      톰 홀랜드란 배우가  스파이더맨에 나왔었나  기억이 안나네언차티드에선  매력있네요\n",
       "3        1      평점이 안 좋아서 기대 안 하고 봤는데 깊이 생각하지 않고 보기에 딱 좋아용 꿀잼\n",
       "4        1                             가벼운 킬링 타임용 무비로 매우 괜춘~~\n",
       "...    ...                                                ...\n",
       "1516     1                                                   \n",
       "1517     1  톰홀랜드가 보여줄 수 있는 딱 킬링타임용 영화ㅋㅋㅋ확실히 배우가 좋다 보니까 평타 ...\n",
       "1518     1  게임원작은 안해봤지만 킬탐으론 딱 적당한듯. 스파때랑은 다른 톰 홀랜드의 청년미.....\n",
       "1519     1  원작 팬분들에겐 가벼운 분위기가 낯설 수 있는데, 톰 홀랜드 스타일을 좋아하는 분들...\n",
       "1520     1                                        톰홀랜드인데 말해뭐해\n",
       "\n",
       "[1521 rows x 2 columns]"
      ]
     },
     "execution_count": 36,
     "metadata": {},
     "output_type": "execute_result"
    }
   ],
   "source": [
    "import pandas as pd\n",
    "\n",
    "df = pd.DataFrame([score, comment]).T\n",
    "df.columns = ['score', 'comment']\n",
    "df"
   ]
  },
  {
   "cell_type": "code",
   "execution_count": 34,
   "id": "736b21fa",
   "metadata": {},
   "outputs": [],
   "source": [
    "df.to_csv('test.csv')"
   ]
  },
  {
   "cell_type": "markdown",
   "id": "94a50a19",
   "metadata": {},
   "source": [
    "## train/test set 분리하기"
   ]
  },
  {
   "cell_type": "code",
   "execution_count": 43,
   "id": "fd530865",
   "metadata": {},
   "outputs": [],
   "source": [
    "from sklearn.model_selection import train_test_split\n",
    "\n",
    "train_x, test_x, train_y, test_y = train_test_split(comment, score, test_size=0.2, random_state=0)"
   ]
  },
  {
   "cell_type": "code",
   "execution_count": 40,
   "id": "5ea6c157",
   "metadata": {},
   "outputs": [
    {
     "data": {
      "text/plain": [
       "(1216, 1216)"
      ]
     },
     "execution_count": 40,
     "metadata": {},
     "output_type": "execute_result"
    }
   ],
   "source": [
    "len(train_x), len(train_y)"
   ]
  },
  {
   "cell_type": "code",
   "execution_count": 41,
   "id": "d068d39e",
   "metadata": {},
   "outputs": [
    {
     "data": {
      "text/plain": [
       "(305, 305)"
      ]
     },
     "execution_count": 41,
     "metadata": {},
     "output_type": "execute_result"
    }
   ],
   "source": [
    "len(test_x), len(test_y)"
   ]
  },
  {
   "cell_type": "code",
   "execution_count": 83,
   "id": "2e5d8486",
   "metadata": {},
   "outputs": [
    {
     "data": {
      "text/plain": [
       "['남주는 잘생겼지만 어딘가 시시하고 허접한 인디아나존스',\n",
       " '볼거리 많고 톰홀랜드 귀여운 맛에 재밌게 본 킬림타임용 영화ㅎㅎ 예상이 가는 조금 뻔한 스토리였지만 볼만 했어요',\n",
       " '톰홀랜드인데 말해뭐해',\n",
       " '통신사 공짜 권으로 보고왔는데...돈주고 보기엔 글쎄...?',\n",
       " \"재밌었음. 지루할 틈 없었고 '네셔널트레져'류의 보물찾기영화. 쿠키있음. 후속 나올듯?\",\n",
       " '톰홀랜드 진짜 잘생기고 액션 넘 조아씀ㅋㅋㅋㅋ킬링타임으로 보기 딱 좋음',\n",
       " '',\n",
       " '재미있게 잘 봤습니다. *^^*',\n",
       " '톰홀랜드가 보여줄 수 있는 딱 킬링타임용 영화ㅋㅋㅋ확실히 배우가 좋다 보니까 평타 이상은 하는 듯 액션이 좋았음']"
      ]
     },
     "execution_count": 83,
     "metadata": {},
     "output_type": "execute_result"
    }
   ],
   "source": [
    "train_x[:9]"
   ]
  },
  {
   "cell_type": "code",
   "execution_count": 48,
   "id": "a06ecbb6",
   "metadata": {},
   "outputs": [],
   "source": [
    "from konlpy.tag import Twitter\n",
    "twitter = Twitter()"
   ]
  },
  {
   "cell_type": "code",
   "execution_count": 50,
   "id": "94c052ea",
   "metadata": {},
   "outputs": [
    {
     "data": {
      "text/plain": [
       "<1216x1259 sparse matrix of type '<class 'numpy.float64'>'\n",
       "\twith 21155 stored elements in Compressed Sparse Row format>"
      ]
     },
     "execution_count": 50,
     "metadata": {},
     "output_type": "execute_result"
    }
   ],
   "source": [
    "from sklearn.feature_extraction.text import TfidfVectorizer\n",
    "\n",
    "tfv = TfidfVectorizer(tokenizer=twitter.morphs, ngram_range=(1, 2), min_df=3, max_df=0.9)\n",
    "tfv.fit(train_x)\n",
    "tfv_train_x = tfv.transform(train_x)\n",
    "tfv_train_x"
   ]
  },
  {
   "cell_type": "code",
   "execution_count": 51,
   "id": "ec558ec6",
   "metadata": {},
   "outputs": [
    {
     "name": "stdout",
     "output_type": "stream",
     "text": [
      "Fitting 4 folds for each of 5 candidates, totalling 20 fits\n"
     ]
    },
    {
     "data": {
      "text/plain": [
       "GridSearchCV(cv=4, estimator=LogisticRegression(random_state=0),\n",
       "             param_grid={'C': [1, 3, 5, 7, 9]}, scoring='accuracy', verbose=1)"
      ]
     },
     "execution_count": 51,
     "metadata": {},
     "output_type": "execute_result"
    }
   ],
   "source": [
    "from sklearn.linear_model import LogisticRegression\n",
    "from sklearn.model_selection import GridSearchCV\n",
    "\n",
    "clf = LogisticRegression(random_state=0)\n",
    "params={'C':[1,3,5,7,9]}\n",
    "grid_cv = GridSearchCV(clf, param_grid=params, cv=4, scoring='accuracy', verbose=1)\n",
    "grid_cv.fit(tfv_train_x, train_y)"
   ]
  },
  {
   "cell_type": "code",
   "execution_count": 52,
   "id": "255c1a23",
   "metadata": {},
   "outputs": [
    {
     "data": {
      "text/plain": [
       "{'C': 7}"
      ]
     },
     "execution_count": 52,
     "metadata": {},
     "output_type": "execute_result"
    }
   ],
   "source": [
    "grid_cv.best_params_"
   ]
  },
  {
   "cell_type": "code",
   "execution_count": 53,
   "id": "5e2ecb71",
   "metadata": {},
   "outputs": [
    {
     "data": {
      "text/plain": [
       "0.8651315789473684"
      ]
     },
     "execution_count": 53,
     "metadata": {},
     "output_type": "execute_result"
    }
   ],
   "source": [
    "grid_cv.best_score_"
   ]
  },
  {
   "cell_type": "code",
   "execution_count": 55,
   "id": "6b208694",
   "metadata": {},
   "outputs": [
    {
     "data": {
      "text/plain": [
       "0.8491803278688524"
      ]
     },
     "execution_count": 55,
     "metadata": {},
     "output_type": "execute_result"
    }
   ],
   "source": [
    "tfv_test_x = tfv.transform(test_x)\n",
    "grid_cv.best_estimator_.score(tfv_test_x, test_y)"
   ]
  },
  {
   "cell_type": "code",
   "execution_count": 56,
   "id": "b536b845",
   "metadata": {},
   "outputs": [
    {
     "data": {
      "text/plain": [
       "array([1])"
      ]
     },
     "execution_count": 56,
     "metadata": {},
     "output_type": "execute_result"
    }
   ],
   "source": [
    "a=['재밌어요']\n",
    "my_comment = tfv.transform(a)\n",
    "grid_cv.best_estimator_.predict(my_comment)"
   ]
  },
  {
   "cell_type": "code",
   "execution_count": 77,
   "id": "9df76837",
   "metadata": {},
   "outputs": [
    {
     "data": {
      "text/plain": [
       "array([0, 0, 1, 0, 1, 1])"
      ]
     },
     "execution_count": 77,
     "metadata": {},
     "output_type": "execute_result"
    }
   ],
   "source": [
    "b=['별로', '그저 그렇다','꼭 보세요','노잼', '미쳤다', '역시 톰홀랜드']\n",
    "my_comment2 = tfv.transform(b)\n",
    "grid_cv.best_estimator_.predict(my_comment2)"
   ]
  }
 ],
 "metadata": {
  "kernelspec": {
   "display_name": "Python 3 (ipykernel)",
   "language": "python",
   "name": "python3"
  },
  "language_info": {
   "codemirror_mode": {
    "name": "ipython",
    "version": 3
   },
   "file_extension": ".py",
   "mimetype": "text/x-python",
   "name": "python",
   "nbconvert_exporter": "python",
   "pygments_lexer": "ipython3",
   "version": "3.9.7"
  }
 },
 "nbformat": 4,
 "nbformat_minor": 5
}
